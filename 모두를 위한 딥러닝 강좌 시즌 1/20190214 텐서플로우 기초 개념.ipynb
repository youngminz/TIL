{
 "cells": [
  {
   "cell_type": "markdown",
   "metadata": {},
   "source": [
    "* TensorFlow : data flow graph를 이용해서 numerical computation를 할 수 있는 라이브러리\n",
    "* Data flow graph : \n",
    "    - 그래프 => 노드와 엣지로 구성되어 있는 것\n",
    "    - 노드들은 오퍼레이션이라고 볼 수 있음\n",
    "    - 엣지 : 데이터; 텐서라고도 함"
   ]
  },
  {
   "cell_type": "code",
   "execution_count": 9,
   "metadata": {},
   "outputs": [
    {
     "name": "stdout",
     "output_type": "stream",
     "text": [
      "b'Hello, TensorFlow!'\n"
     ]
    }
   ],
   "source": [
    "import tensorflow as tf\n",
    "\n",
    "hello = tf.constant('Hello, TensorFlow!')  # <<< Node 한 개\n",
    "\n",
    "# 이 프로그램을 실행하려면 다음과 같이 해야 한다\n",
    "\n",
    "sess = tf.Session()\n",
    "\n",
    "print(sess.run(hello))"
   ]
  },
  {
   "cell_type": "code",
   "execution_count": 14,
   "metadata": {},
   "outputs": [
    {
     "name": "stdout",
     "output_type": "stream",
     "text": [
      "sess.run(node1, node2) : [3.0, 4.0]\n",
      "sess.run(node1, node2) : 7.0\n"
     ]
    }
   ],
   "source": [
    "# 조금 더 복잡한 형태\n",
    "# 더하기라는 노드를 통한 노드\n",
    "\n",
    "node1 = tf.constant(3.0, tf.float32)\n",
    "node2 = tf.constant(4.0)  # 묵시적\n",
    "node3 = tf.add(node1, node2)\n",
    "# or\n",
    "node3 = node1 + node2\n",
    "\n",
    "sess = tf.Session()\n",
    "print(f\"sess.run(node1, node2) : {sess.run([node1, node2])}\")\n",
    "print(f\"sess.run(node1, node2) : {sess.run(node3)}\")"
   ]
  },
  {
   "cell_type": "code",
   "execution_count": null,
   "metadata": {},
   "outputs": [],
   "source": [
    "1. 그래프를 먼저 빌드한다.\n",
    "2. sess.run를 통해 그래프를 실행한다\n",
    "3. 텐서플로우는 노드의 값을 업데이트 한다. 반환하는 값이 있으면 반환한다."
   ]
  },
  {
   "cell_type": "code",
   "execution_count": 19,
   "metadata": {},
   "outputs": [
    {
     "name": "stdout",
     "output_type": "stream",
     "text": [
      "7.5\n",
      "[3. 7.]\n"
     ]
    }
   ],
   "source": [
    "# Placeholder\n",
    "\n",
    "# 그래프를 만들 때 값을 하드코딩 하고 싶지 않은 경우 사용\n",
    "\n",
    "a = tf.placeholder(tf.float32)\n",
    "b = tf.placeholder(tf.float32)\n",
    "adder_node = a + b\n",
    "\n",
    "print(sess.run(adder_node, feed_dict={a: 3, b: 4.5}))\n",
    "print(sess.run(adder_node, feed_dict={a: [1, 3], b: [2, 4]}))"
   ]
  },
  {
   "cell_type": "code",
   "execution_count": 20,
   "metadata": {},
   "outputs": [
    {
     "data": {
      "text/plain": [
       "Ellipsis"
      ]
     },
     "execution_count": 20,
     "metadata": {},
     "output_type": "execute_result"
    }
   ],
   "source": [
    "# 모든 것은 텐서이다. \n",
    "\n",
    "3  # 랭크 0\n",
    "[1, 2]  # 랭크 1\n",
    "[[1], [2], [3]]  # 랭크 2\n",
    "...\n",
    "\n",
    "# Shape : a * b * c * d ...  일 경우 [a, b, c, d, ...]"
   ]
  },
  {
   "cell_type": "code",
   "execution_count": null,
   "metadata": {},
   "outputs": [],
   "source": [
    "일반적인 소프트웨어와는 다르게, 그래프를 그려서 작업한다."
   ]
  }
 ],
 "metadata": {
  "kernelspec": {
   "display_name": "Python [conda env:tfgpu]",
   "language": "python",
   "name": "conda-env-tfgpu-py"
  },
  "language_info": {
   "codemirror_mode": {
    "name": "ipython",
    "version": 3
   },
   "file_extension": ".py",
   "mimetype": "text/x-python",
   "name": "python",
   "nbconvert_exporter": "python",
   "pygments_lexer": "ipython3",
   "version": "3.6.8"
  }
 },
 "nbformat": 4,
 "nbformat_minor": 2
}
