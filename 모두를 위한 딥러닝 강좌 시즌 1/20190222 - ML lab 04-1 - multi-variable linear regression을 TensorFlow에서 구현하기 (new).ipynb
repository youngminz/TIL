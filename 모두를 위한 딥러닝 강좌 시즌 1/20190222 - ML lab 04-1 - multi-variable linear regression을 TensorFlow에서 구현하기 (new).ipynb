{
 "cells": [
  {
   "cell_type": "code",
   "execution_count": 8,
   "metadata": {
    "scrolled": false
   },
   "outputs": [],
   "source": [
    "import tensorflow as tf\n",
    "\n",
    "# Hypothesis using matrix\n",
    "\n",
    "x1_data = [73., 93., 89., 96., 73.]\n",
    "x2_data = [80., 88., 91., 98., 66.]\n",
    "x3_data = [75., 93., 90., 100., 70.]\n",
    "y_data = [152., 185., 180., 196., 142.]\n",
    "\n",
    "# placeholders for a tensor that will be always fed\n",
    "x1 = tf.placeholder(tf.float32)\n",
    "x2 = tf.placeholder(tf.float32)\n",
    "x3 = tf.placeholder(tf.float32)\n",
    "\n",
    "Y = tf.placeholder(tf.float32)\n",
    "\n",
    "w1 = tf.Variable(tf.random_normal([1]), name='weight1')\n",
    "w2 = tf.Variable(tf.random_normal([1]), name='weight2')\n",
    "w3 = tf.Variable(tf.random_normal([1]), name='weight3')\n",
    "b = tf.Variable(tf.random_normal([1]), name='bias')\n",
    "\n",
    "hypothesis = x1 * w1 + x2 * w2 + x3 * w3 + b"
   ]
  },
  {
   "cell_type": "code",
   "execution_count": 9,
   "metadata": {
    "scrolled": true
   },
   "outputs": [
    {
     "name": "stdout",
     "output_type": "stream",
     "text": [
      "0 Cost: 142192.78 \n",
      "Prediction:\n",
      " [-178.7406  -220.8423  -214.7302  -230.75406 -172.54045]\n",
      "500 Cost: 18.361979 \n",
      "Prediction:\n",
      " [155.06247 181.79912 181.2568  200.49916 134.90327]\n",
      "1000 Cost: 14.936818 \n",
      "Prediction:\n",
      " [154.40341 182.25587 181.06111 200.309   135.54369]\n",
      "1500 Cost: 12.303265 \n",
      "Prediction:\n",
      " [153.8304  182.65355 180.89172 200.13846 136.1061 ]\n",
      "2000 Cost: 10.273982 \n",
      "Prediction:\n",
      " [153.33253 182.99965 180.74527 199.98509 136.60033]\n"
     ]
    }
   ],
   "source": [
    "# cost/loss function\n",
    "cost = tf.reduce_mean(tf.square(hypothesis - Y))\n",
    "# Minimize. Need a very small learning rate for this data set\n",
    "optimizer = tf.train.GradientDescentOptimizer(learning_rate=1e-5)\n",
    "train = optimizer.minimize(cost)\n",
    "\n",
    "# Launch the graph in a session\n",
    "sess = tf.Session()\n",
    "# Initializes gloabl variables in the graph\n",
    "sess.run(tf.global_variables_initializer())\n",
    "for step in range(2001):\n",
    "    cost_val, hy_val, _ = sess.run(\n",
    "        [cost, hypothesis, train],\n",
    "        feed_dict={x1: x1_data, x2: x2_data, x3: x3_data, Y: y_data}\n",
    "    )\n",
    "    if step % 500 == 0:\n",
    "        print(step, \"Cost:\", cost_val, \"\\nPrediction:\\n\", hy_val)"
   ]
  },
  {
   "cell_type": "code",
   "execution_count": 1,
   "metadata": {},
   "outputs": [],
   "source": [
    "import tensorflow as tf"
   ]
  },
  {
   "cell_type": "code",
   "execution_count": 3,
   "metadata": {},
   "outputs": [],
   "source": [
    "# 위의 코드는 너무 복잡함! 행렬로 풀자.\n",
    "\n",
    "x_data = [    \n",
    "    [73., 80., 75.],\n",
    "    [93., 88., 93. ],\n",
    "    [89., 91., 90.],\n",
    "    [96., 98., 100.],\n",
    "    [73., 66., 70.],\n",
    "]\n",
    "y_data = [\n",
    "    [152.],\n",
    "    [185.],\n",
    "    [180.],\n",
    "    [196.],\n",
    "    [142.],\n",
    "]\n",
    "\n",
    "# placeholders for a tensor that will be always fed.\n",
    "X = tf.placeholder(tf.float32, shape=[None, 3])\n",
    "Y = tf.placeholder(tf.float32, shape=[None, 1])\n",
    "\n",
    "W = tf.Variable(tf.random_normal([3, 1]), name='weight')\n",
    "b = tf.Variable(tf.random_normal([1]), name='bias')\n",
    "\n",
    "# Hypothesis\n",
    "hypothesis = tf.matmul(X, W) + b"
   ]
  },
  {
   "cell_type": "code",
   "execution_count": 6,
   "metadata": {},
   "outputs": [
    {
     "name": "stdout",
     "output_type": "stream",
     "text": [
      "0 Cost: 1146.4515 \n",
      "Prediction:\n",
      " [[183.42755]\n",
      " [219.35095]\n",
      " [216.44507]\n",
      " [235.85367]\n",
      " [167.45625]]\n",
      "500 Cost: 1.7787548 \n",
      "Prediction:\n",
      " [[153.15703]\n",
      " [183.45363]\n",
      " [180.82286]\n",
      " [197.08261]\n",
      " [140.17938]]\n",
      "1000 Cost: 1.4058793 \n",
      "Prediction:\n",
      " [[152.93314]\n",
      " [183.60788]\n",
      " [180.75522]\n",
      " [197.02603]\n",
      " [140.3883 ]]\n",
      "1500 Cost: 1.1209795 \n",
      "Prediction:\n",
      " [[152.738  ]\n",
      " [183.74242]\n",
      " [180.69641]\n",
      " [196.9759 ]\n",
      " [140.57124]]\n",
      "2000 Cost: 0.9031886 \n",
      "Prediction:\n",
      " [[152.56801]\n",
      " [183.85973]\n",
      " [180.64528]\n",
      " [196.93144]\n",
      " [140.73149]]\n"
     ]
    }
   ],
   "source": [
    "# cost/loss function\n",
    "cost = tf.reduce_mean(tf.square(hypothesis - Y))\n",
    "# Minimize. Need a very small learning rate for this data set\n",
    "optimizer = tf.train.GradientDescentOptimizer(learning_rate=1e-5)\n",
    "train = optimizer.minimize(cost)\n",
    "\n",
    "# Launch the graph in a session\n",
    "sess = tf.Session()\n",
    "# Initializes gloabl variables in the graph\n",
    "sess.run(tf.global_variables_initializer())\n",
    "for step in range(2001):\n",
    "    cost_val, hy_val, _ = sess.run(\n",
    "        [cost, hypothesis, train],\n",
    "        feed_dict={X: x_data, Y: y_data}\n",
    "    )\n",
    "    if step % 500 == 0:\n",
    "        print(step, \"Cost:\", cost_val, \"\\nPrediction:\\n\", hy_val)"
   ]
  }
 ],
 "metadata": {
  "kernelspec": {
   "display_name": "Python [conda env:tfgpu]",
   "language": "python",
   "name": "conda-env-tfgpu-py"
  },
  "language_info": {
   "codemirror_mode": {
    "name": "ipython",
    "version": 3
   },
   "file_extension": ".py",
   "mimetype": "text/x-python",
   "name": "python",
   "nbconvert_exporter": "python",
   "pygments_lexer": "ipython3",
   "version": "3.6.8"
  }
 },
 "nbformat": 4,
 "nbformat_minor": 2
}
