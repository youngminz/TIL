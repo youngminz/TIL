{
 "cells": [
  {
   "cell_type": "code",
   "execution_count": 6,
   "metadata": {},
   "outputs": [
    {
     "name": "stdout",
     "output_type": "stream",
     "text": [
      "Tensor(\"Shape_3:0\", shape=(1,), dtype=int32)\n"
     ]
    }
   ],
   "source": [
    "import numpy as np\n",
    "import pprint as pp\n",
    "import tensorflow as tf\n",
    "\n",
    "with tf.Session() as sess:    \n",
    "    t = tf.constant([1, 2, 3, 4])\n",
    "    print(tf.shape(t))"
   ]
  },
  {
   "cell_type": "code",
   "execution_count": null,
   "metadata": {},
   "outputs": [],
   "source": [
    "# Axis: 0-index로, 바깥쪽 부터 차례차례 들어옴\n",
    "# Broadcasting: 다른 rank끼리 연산을 했을 때 알아서 만들어 줌, 위험\n",
    "# Reduce mean: 평균을 구한다. axis가 주어졌을 경우 그 axis의 평균을 구함\n",
    "# Argmax: 가장 큰것의 위치를 구함\n",
    "# Reshape: 모양을 변경함. 제일 안쪽의 값은 일반적으로 건드리지 않음\n",
    "# squeeze: flat=True 와 비슷, expand_dims: 1차원을 2차원으로 만들어줌\n",
    "# one_hot: 값을 일차원 배열로 만들어줌. 자동적으로 차원이 하나 늘어남\n",
    "# cast: 타입 캐스팅\n",
    "# stack: 리스트로 변경함\n",
    "# ones_like, zeros_like: 같은 모양의 1, 0으로 채워진 리스트들을 만듬\n",
    "# zip: 파이썬의 그 zip"
   ]
  },
  {
   "cell_type": "code",
   "execution_count": null,
   "metadata": {},
   "outputs": [],
   "source": []
  }
 ],
 "metadata": {
  "kernelspec": {
   "display_name": "Python [conda env:tfgpu]",
   "language": "python",
   "name": "conda-env-tfgpu-py"
  },
  "language_info": {
   "codemirror_mode": {
    "name": "ipython",
    "version": 3
   },
   "file_extension": ".py",
   "mimetype": "text/x-python",
   "name": "python",
   "nbconvert_exporter": "python",
   "pygments_lexer": "ipython3",
   "version": "3.6.8"
  }
 },
 "nbformat": 4,
 "nbformat_minor": 2
}
